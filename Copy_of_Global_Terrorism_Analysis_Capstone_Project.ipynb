{
  "nbformat": 4,
  "nbformat_minor": 0,
  "metadata": {
    "kernelspec": {
      "display_name": "Python 3",
      "language": "python",
      "name": "python3"
    },
    "language_info": {
      "codemirror_mode": {
        "name": "ipython",
        "version": 3
      },
      "file_extension": ".py",
      "mimetype": "text/x-python",
      "name": "python",
      "nbconvert_exporter": "python",
      "pygments_lexer": "ipython3",
      "version": "3.6.6"
    },
    "colab": {
      "name": "Copy of Global Terrorism Analysis - Capstone Project.ipynb",
      "provenance": [],
      "collapsed_sections": [],
      "include_colab_link": true
    }
  },
  "cells": [
    {
      "cell_type": "markdown",
      "metadata": {
        "id": "view-in-github",
        "colab_type": "text"
      },
      "source": [
        "<a href=\"https://colab.research.google.com/github/jedhenik/EDA_Global_Terrorism/blob/main/Copy_of_Global_Terrorism_Analysis_Capstone_Project.ipynb\" target=\"_parent\"><img src=\"https://colab.research.google.com/assets/colab-badge.svg\" alt=\"Open In Colab\"/></a>"
      ]
    },
    {
      "cell_type": "markdown",
      "metadata": {
        "id": "Y06xIdG26kRF"
      },
      "source": [
        "## <b> The Global Terrorism Database (GTD) is an open-source database including information on terrorist attacks around the world from 1970 through 2017. The GTD includes systematic data on domestic as well as international terrorist incidents that have occurred during this time period and now includes more than 180,000 attacks. The database is maintained by researchers at the National Consortium for the Study of Terrorism and Responses to Terrorism (START), headquartered at the University of Maryland.</b>\n",
        "\n",
        "# <b> Explore and analyze the data to discover key findings pertaining to terrorist activities. </b>"
      ]
    },
    {
      "cell_type": "markdown",
      "source": [
        "# **Importing libraries**"
      ],
      "metadata": {
        "id": "grCuVmjyzGw-"
      }
    },
    {
      "cell_type": "code",
      "metadata": {
        "id": "dByMsuzT8Tnw"
      },
      "source": [
        "import pandas as pd\n",
        "import numpy as np"
      ],
      "execution_count": null,
      "outputs": []
    },
    {
      "cell_type": "markdown",
      "source": [
        "# **Importing dataset**"
      ],
      "metadata": {
        "id": "Z4Wi9iR9ypIb"
      }
    },
    {
      "cell_type": "code",
      "source": [
        "from google.colab import drive\n",
        "drive.mount('/content/drive')"
      ],
      "metadata": {
        "colab": {
          "base_uri": "https://localhost:8080/"
        },
        "id": "LvFUxcAWzuwr",
        "outputId": "436c85d2-e922-4e2d-9f82-1d0799cde675"
      },
      "execution_count": null,
      "outputs": [
        {
          "output_type": "stream",
          "name": "stdout",
          "text": [
            "Mounted at /content/drive\n"
          ]
        }
      ]
    },
    {
      "cell_type": "code",
      "source": [
        "path='/content/drive/MyDrive/EDA_GLOBAL_TERRORISM/Copy of Global Terrorism Data.csv'\n",
        "df = pd.read_csv(path,encoding = 'ISO-8859-1', low_memory=False)\n",
        "print(df)"
      ],
      "metadata": {
        "id": "F8f5LUC8zNrc"
      },
      "execution_count": null,
      "outputs": []
    },
    {
      "cell_type": "markdown",
      "source": [
        "# **Check data**"
      ],
      "metadata": {
        "id": "Gy7-Us1L3Lvb"
      }
    },
    {
      "cell_type": "code",
      "source": [
        "df.shape"
      ],
      "metadata": {
        "id": "jXdQm3_y3KUc"
      },
      "execution_count": null,
      "outputs": []
    },
    {
      "cell_type": "code",
      "source": [
        "df.head()"
      ],
      "metadata": {
        "id": "ALEmxq8k3Vda"
      },
      "execution_count": null,
      "outputs": []
    },
    {
      "cell_type": "code",
      "source": [
        "for i in df.columns:\n",
        "  print(i)"
      ],
      "metadata": {
        "id": "LsAknidx3Y9W"
      },
      "execution_count": null,
      "outputs": []
    },
    {
      "cell_type": "code",
      "source": [
        "df.columns"
      ],
      "metadata": {
        "colab": {
          "base_uri": "https://localhost:8080/"
        },
        "id": "0Q0o4Mb9NaSF",
        "outputId": "2c2b21d0-3cf0-47c3-8a8b-0a14db2e2078"
      },
      "execution_count": null,
      "outputs": [
        {
          "output_type": "execute_result",
          "data": {
            "text/plain": [
              "Index(['eventid', 'iyear', 'imonth', 'iday', 'approxdate', 'extended',\n",
              "       'resolution', 'country', 'country_txt', 'region',\n",
              "       ...\n",
              "       'addnotes', 'scite1', 'scite2', 'scite3', 'dbsource', 'INT_LOG',\n",
              "       'INT_IDEO', 'INT_MISC', 'INT_ANY', 'related'],\n",
              "      dtype='object', length=135)"
            ]
          },
          "metadata": {},
          "execution_count": 11
        }
      ]
    },
    {
      "cell_type": "code",
      "source": [
        "df.dtypes"
      ],
      "metadata": {
        "colab": {
          "base_uri": "https://localhost:8080/"
        },
        "id": "NisB638FODx9",
        "outputId": "55226e57-f374-4231-8029-806a89fb9609"
      },
      "execution_count": null,
      "outputs": [
        {
          "output_type": "execute_result",
          "data": {
            "text/plain": [
              "eventid        int64\n",
              "iyear          int64\n",
              "imonth         int64\n",
              "iday           int64\n",
              "approxdate    object\n",
              "               ...  \n",
              "INT_LOG        int64\n",
              "INT_IDEO       int64\n",
              "INT_MISC       int64\n",
              "INT_ANY        int64\n",
              "related       object\n",
              "Length: 135, dtype: object"
            ]
          },
          "metadata": {},
          "execution_count": 14
        }
      ]
    },
    {
      "cell_type": "markdown",
      "source": [
        "# **Cleaning of Dataset**"
      ],
      "metadata": {
        "id": "RyJBC9KwORPW"
      }
    },
    {
      "cell_type": "markdown",
      "source": [
        "Find out total no of NAN values in dataframe."
      ],
      "metadata": {
        "id": "PY9Aa-jAQEu5"
      }
    },
    {
      "cell_type": "code",
      "source": [
        "a=((df.isnull().sum()).sum())/(df.size)*100\n",
        "a"
      ],
      "metadata": {
        "colab": {
          "base_uri": "https://localhost:8080/"
        },
        "id": "37CCTR7iOQiU",
        "outputId": "2186aae6-33a5-4b15-dc68-d5adbd0be6d6"
      },
      "execution_count": null,
      "outputs": [
        {
          "output_type": "execute_result",
          "data": {
            "text/plain": [
              "56.481718962414206"
            ]
          },
          "metadata": {},
          "execution_count": 15
        }
      ]
    },
    {
      "cell_type": "code",
      "source": [
        "x=df.isnull().sum().sum()\n",
        "x"
      ],
      "metadata": {
        "colab": {
          "base_uri": "https://localhost:8080/"
        },
        "id": "PArnjqDEPhMN",
        "outputId": "04bbd110-1fb9-44ce-a167-deef5f526dd2"
      },
      "execution_count": null,
      "outputs": [
        {
          "output_type": "execute_result",
          "data": {
            "text/plain": [
              "13853997"
            ]
          },
          "metadata": {},
          "execution_count": 16
        }
      ]
    },
    {
      "cell_type": "code",
      "source": [
        "y=df.size\n",
        "y"
      ],
      "metadata": {
        "colab": {
          "base_uri": "https://localhost:8080/"
        },
        "id": "4huWNEoaPkoJ",
        "outputId": "1f609044-bb37-4f51-a2b9-65ea042da524"
      },
      "execution_count": null,
      "outputs": [
        {
          "output_type": "execute_result",
          "data": {
            "text/plain": [
              "24528285"
            ]
          },
          "metadata": {},
          "execution_count": 17
        }
      ]
    },
    {
      "cell_type": "code",
      "source": [
        "import matplotlib.pyplot as plt\n",
        "import seaborn as sns\n",
        "%matplotlib inline"
      ],
      "metadata": {
        "id": "3qgi_8wPPpiU"
      },
      "execution_count": null,
      "outputs": []
    },
    {
      "cell_type": "code",
      "source": [
        "Task=[]"
      ],
      "metadata": {
        "id": "nMepxTaPPukz"
      },
      "execution_count": null,
      "outputs": []
    },
    {
      "cell_type": "code",
      "source": [
        "Task.append(x)"
      ],
      "metadata": {
        "id": "bwKYW3PfPz6-"
      },
      "execution_count": null,
      "outputs": []
    },
    {
      "cell_type": "code",
      "source": [
        "Task.append(y-x)"
      ],
      "metadata": {
        "id": "zt4NFno9P4Lw"
      },
      "execution_count": null,
      "outputs": []
    },
    {
      "cell_type": "code",
      "source": [
        "Task"
      ],
      "metadata": {
        "colab": {
          "base_uri": "https://localhost:8080/"
        },
        "id": "1JV6vQ0UP7PI",
        "outputId": "e59adeb9-fbf8-4318-9aa6-8165bac65770"
      },
      "execution_count": null,
      "outputs": [
        {
          "output_type": "execute_result",
          "data": {
            "text/plain": [
              "[13853997, 10674288]"
            ]
          },
          "metadata": {},
          "execution_count": 22
        }
      ]
    },
    {
      "cell_type": "code",
      "source": [
        "my_labels = 'missing','non_missing'\n",
        "plt.pie(Task,labels=my_labels,autopct='%1.1f%%')\n",
        "plt.title('My Tasks')\n",
        "plt.axis('equal')\n",
        "plt.show()"
      ],
      "metadata": {
        "id": "SGkYDToHP_R_"
      },
      "execution_count": null,
      "outputs": []
    },
    {
      "cell_type": "markdown",
      "source": [
        "Find missing values by column"
      ],
      "metadata": {
        "id": "f_5aPLluQpcg"
      }
    },
    {
      "cell_type": "code",
      "source": [
        "plot_width, plot_height = (16,18)\n",
        "plt.rcParams['figure.figsize'] = (plot_width,plot_height)"
      ],
      "metadata": {
        "id": "aJ44kTUNQuIV"
      },
      "execution_count": null,
      "outputs": []
    },
    {
      "cell_type": "code",
      "source": [
        "import matplotlib.pyplot as plt\n",
        "def plot_nas(df: pd.DataFrame):\n",
        "    if df.isnull().sum().sum() != 0:\n",
        "        na_df = (df.isnull().sum() / len(df)) * 100      \n",
        "        na_df = na_df.drop(na_df[na_df == 0].index).sort_values(ascending=False)\n",
        "        missing_data = pd.DataFrame({'Missing Ratio %' :na_df})\n",
        "        missing_data.plot(kind = \"barh\")\n",
        "        plt.show()\n",
        "    else:\n",
        "        print('No NAs found')\n",
        "plot_nas(df)"
      ],
      "metadata": {
        "colab": {
          "base_uri": "https://localhost:8080/",
          "height": 1000
        },
        "id": "zFguK886REXT",
        "outputId": "46909454-53d5-454a-a1ae-0ba3335ca4a5"
      },
      "execution_count": null,
      "outputs": [
        {
          "output_type": "display_data",
          "data": {
            "text/plain": [
              "<Figure size 1152x1296 with 1 Axes>"
            ],
            "image/png": "[encoded data removed]"
          },
          "metadata": {
            "needs_background": "light"
          }
        }
      ]
    },
    {
      "cell_type": "markdown",
      "source": [
        "delete columns which have null values grater than 30%"
      ],
      "metadata": {
        "id": "k2YiZZ64O3yj"
      }
    },
    {
      "cell_type": "code",
      "source": [
        "a=df.isnull().sum()/len(df)*100\n",
        "a"
      ],
      "metadata": {
        "colab": {
          "base_uri": "https://localhost:8080/"
        },
        "id": "2gy0sr3hQR14",
        "outputId": "17e86155-e848-4ed8-992f-79a316cfa0a9"
      },
      "execution_count": null,
      "outputs": [
        {
          "output_type": "execute_result",
          "data": {
            "text/plain": [
              "eventid        0.000000\n",
              "iyear          0.000000\n",
              "imonth         0.000000\n",
              "iday           0.000000\n",
              "approxdate    94.914993\n",
              "                ...    \n",
              "INT_LOG        0.000000\n",
              "INT_IDEO       0.000000\n",
              "INT_MISC       0.000000\n",
              "INT_ANY        0.000000\n",
              "related       86.219461\n",
              "Length: 135, dtype: float64"
            ]
          },
          "metadata": {},
          "execution_count": 26
        }
      ]
    },
    {
      "cell_type": "code",
      "source": [
        "b=[]\n",
        "c=df.columns\n",
        "for i in range(len(c)):\n",
        "  if a[i]<30:\n",
        "    b.append(c[i])"
      ],
      "metadata": {
        "id": "q2csm1FSRjHA"
      },
      "execution_count": null,
      "outputs": []
    },
    {
      "cell_type": "code",
      "source": [
        "b"
      ],
      "metadata": {
        "id": "LcEu8BM6RppA"
      },
      "execution_count": null,
      "outputs": []
    },
    {
      "cell_type": "code",
      "source": [
        "len(b)"
      ],
      "metadata": {
        "id": "GBcZOFN1Rtgm"
      },
      "execution_count": null,
      "outputs": []
    },
    {
      "cell_type": "code",
      "source": [
        "df.property"
      ],
      "metadata": {
        "id": "v8bMnd7bRv95"
      },
      "execution_count": null,
      "outputs": []
    },
    {
      "cell_type": "code",
      "source": [
        "df.info()"
      ],
      "metadata": {
        "id": "JGvTy6GuR0-4"
      },
      "execution_count": null,
      "outputs": []
    },
    {
      "cell_type": "code",
      "source": [
        "df.describe()"
      ],
      "metadata": {
        "id": "xSzcj_63R2mp"
      },
      "execution_count": null,
      "outputs": []
    },
    {
      "cell_type": "markdown",
      "source": [
        "Also drop all columns where missing vakues grater than 150000\n"
      ],
      "metadata": {
        "id": "C0tJNmMkSDCw"
      }
    },
    {
      "cell_type": "code",
      "source": [
        "df.isnull().sum()"
      ],
      "metadata": {
        "colab": {
          "base_uri": "https://localhost:8080/"
        },
        "id": "zSg_H26OSS9s",
        "outputId": "23c612e8-0d51-4cde-b463-9006a8ec4cba"
      },
      "execution_count": null,
      "outputs": [
        {
          "output_type": "execute_result",
          "data": {
            "text/plain": [
              "eventid            0\n",
              "iyear              0\n",
              "imonth             0\n",
              "iday               0\n",
              "approxdate    172452\n",
              "               ...  \n",
              "INT_LOG            0\n",
              "INT_IDEO           0\n",
              "INT_MISC           0\n",
              "INT_ANY            0\n",
              "related       156653\n",
              "Length: 135, dtype: int64"
            ]
          },
          "metadata": {},
          "execution_count": 33
        }
      ]
    },
    {
      "cell_type": "code",
      "source": [
        "df=df.dropna(thresh=150000,axis=1)"
      ],
      "metadata": {
        "id": "wpPNu8vdSWOe"
      },
      "execution_count": null,
      "outputs": []
    },
    {
      "cell_type": "code",
      "source": [
        "df.shape"
      ],
      "metadata": {
        "colab": {
          "base_uri": "https://localhost:8080/"
        },
        "id": "RR_X7WQzSgHs",
        "outputId": "3a408437-5686-4c57-faea-164ec2171093"
      },
      "execution_count": null,
      "outputs": [
        {
          "output_type": "execute_result",
          "data": {
            "text/plain": [
              "(181691, 47)"
            ]
          },
          "metadata": {},
          "execution_count": 35
        }
      ]
    },
    {
      "cell_type": "markdown",
      "source": [
        "Now delete rows as there are also missing values( even in required columns just to reduce size of dataframe)"
      ],
      "metadata": {
        "id": "cnGQ86K-Sled"
      }
    },
    {
      "cell_type": "code",
      "source": [
        "df=df.dropna()"
      ],
      "metadata": {
        "id": "Xtv1fNRUTLzp"
      },
      "execution_count": null,
      "outputs": []
    },
    {
      "cell_type": "code",
      "source": [
        "df.shape"
      ],
      "metadata": {
        "colab": {
          "base_uri": "https://localhost:8080/"
        },
        "id": "NKY_u-fGTPmh",
        "outputId": "c49e2701-2ce4-44eb-ea2c-5e270ba3a76e"
      },
      "execution_count": null,
      "outputs": [
        {
          "output_type": "execute_result",
          "data": {
            "text/plain": [
              "(134042, 47)"
            ]
          },
          "metadata": {},
          "execution_count": 38
        }
      ]
    },
    {
      "cell_type": "markdown",
      "source": [
        "Now we will look for any duplicate rows"
      ],
      "metadata": {
        "id": "j0Cw34xDTR2U"
      }
    },
    {
      "cell_type": "code",
      "source": [
        "df.duplicated().sum()"
      ],
      "metadata": {
        "colab": {
          "base_uri": "https://localhost:8080/"
        },
        "id": "-BQSCcTFTDKn",
        "outputId": "b9e3b533-ea83-4ea3-a66f-b4cf9e85f0ed"
      },
      "execution_count": null,
      "outputs": [
        {
          "output_type": "execute_result",
          "data": {
            "text/plain": [
              "0"
            ]
          },
          "metadata": {},
          "execution_count": 36
        }
      ]
    },
    {
      "cell_type": "markdown",
      "source": [
        "WE have to check each column to know its useful for EDA in Excel.\n",
        "For that we have to choose right columns for EDA."
      ],
      "metadata": {
        "id": "KrMRhD404Azi"
      }
    },
    {
      "cell_type": "code",
      "source": [
        "df.rename(columns={'iyear':'Year','imonth':'Month','iday':\"day\",'gname':'Group','country_txt':'Country','region_txt':'Region',\n",
        "                     'provstate':'State','city':'City','latitude':'latitude','longitude':'longitude','summary':'summary',\n",
        "                     'attacktype1_txt':'Attacktype','targtype1_txt':'Targettype','weaptype1_txt':'Weapon','nkill':'kill',\n",
        "                     'nwound':'Wound','extended':'extended'},inplace=True)"
      ],
      "metadata": {
        "id": "cFndVEoU3-Af"
      },
      "execution_count": null,
      "outputs": []
    },
    {
      "cell_type": "code",
      "source": [
        "df=df[['Year','Month','day','Country','State','Region','City','latitude','longitude',\"Attacktype\",'kill',\n",
        "               'Wound','target1','Group','Targettype','Weapon','extended']]"
      ],
      "metadata": {
        "id": "iocO_repPUAD"
      },
      "execution_count": null,
      "outputs": []
    },
    {
      "cell_type": "code",
      "source": [
        "df.shape"
      ],
      "metadata": {
        "id": "HcCZ0YJkPbg_"
      },
      "execution_count": null,
      "outputs": []
    }
  ]
}